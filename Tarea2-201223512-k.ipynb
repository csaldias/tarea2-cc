{
 "cells": [
  {
   "cell_type": "markdown",
   "metadata": {
    "deletable": true,
    "editable": true
   },
   "source": [
    "<center>\n",
    "    <h1> INF285 - Computación Científica / Tarea 2 </h1>\n",
    "    <h2> Camilo Saldías G.</h2>\n",
    "    <h2> camilo.saldias.12@sansano.usm.cl - 201223512-K </h2>\n",
    "</center>\n",
    "\n",
    "_Marzo 2017_"
   ]
  },
  {
   "cell_type": "code",
   "execution_count": 80,
   "metadata": {
    "collapsed": true,
    "deletable": true,
    "editable": true
   },
   "outputs": [],
   "source": [
    "import numpy as np\n",
    "import bitstring as bs\n",
    "import matplotlib.pyplot as plt\n",
    "%matplotlib inline\n",
    "\n",
    "def to_binary(f):\n",
    "    b = bs.pack('>d', f)\n",
    "    b = b.bin\n",
    "    #show sign + exponent + mantisa\n",
    "    print(b[0]+' '+b[1:12]+ ' '+b[12:])"
   ]
  },
  {
   "cell_type": "markdown",
   "metadata": {},
   "source": [
    "<div id='obj' />\n",
    "# 1. Introducción\n",
    "A continuación, se presentan los desarrollos de los problemas planteados en la Tarea 2. Cada desarrollo está acompañado con el razonamiento detrás de su creación, en forma de una explicación previa y en comentarios en el código donde corresponda."
   ]
  },
  {
   "cell_type": "markdown",
   "metadata": {
    "deletable": true,
    "editable": true
   },
   "source": [
    "<div id='obj' />\n",
    "# 2. Desarrollo\n",
    "## 2.1 Aritmética de Punto Flotante\n",
    "**a)** Defina que corresponde el valor de <b>machine epsilon</b> $\\epsilon_{mach}$ y explique porqué es posible obtener dicho valor en una computadora IEEE de doble precisión calculando el valor de la siguiente resta:</p>\n",
    "\n",
    "$$\\left(\\frac{7.0}{3.0} - \\frac{4.0}{3.0}\\right) - 1.0 $$\n",
    "\n",
    "Implemente la resta usando variables de doble precisión y describa el procedimiento usando aritmética de doble precisión y Nearest Rounding Rule."
   ]
  },
  {
   "cell_type": "markdown",
   "metadata": {},
   "source": [
    "El <b>machine epsilon</b> $\\epsilon_{mach}$ es la distancia entre 1 y el número más pequeño representable mayor a 1 en una computadora IEEE de doble presición. Para saber por qué esta resta nos permite obtener $\\epsilon_{mach}$, debemos analizar la representación binaria de doble presición de cada una de las operaciones que la componen."
   ]
  },
  {
   "cell_type": "code",
   "execution_count": 81,
   "metadata": {
    "collapsed": false,
    "deletable": true,
    "editable": true
   },
   "outputs": [
    {
     "name": "stdout",
     "output_type": "stream",
     "text": [
      "0 10000000000 0010101010101010101010101010101010101010101010101011\n",
      "0 01111111111 0101010101010101010101010101010101010101010101010101\n"
     ]
    }
   ],
   "source": [
    "to_binary(7.0/3.0)\n",
    "to_binary(4.0/3.0)"
   ]
  },
  {
   "cell_type": "markdown",
   "metadata": {},
   "source": [
    "Las primeras 2 representaciones corresponden a $\\frac{7.0}{3.0}$ y $\\frac{4.0}{3.0}$, respectivamente. Se puede observar que los bits correspondientes a cada fracción son opuestos, a excepción del primer y último bit de la mantisa, producto del redondeo realizado por el computador. "
   ]
  },
  {
   "cell_type": "code",
   "execution_count": 82,
   "metadata": {
    "collapsed": false
   },
   "outputs": [
    {
     "name": "stdout",
     "output_type": "stream",
     "text": [
      "0 01111111111 0000000000000000000000000000000000000000000000000001\n"
     ]
    }
   ],
   "source": [
    "to_binary((7.0/3.0 - 4.0/3.0 ))"
   ]
  },
  {
   "cell_type": "markdown",
   "metadata": {},
   "source": [
    "Al restarlos, obtenemos el número más pequeño representable mayor a 1 en una computadora IEEE de doble precisión, donde basta sólo con restarle $1.0$ para obtener el valor buscado, $\\epsilon_{mach}$."
   ]
  },
  {
   "cell_type": "code",
   "execution_count": 83,
   "metadata": {
    "collapsed": false
   },
   "outputs": [
    {
     "name": "stdout",
     "output_type": "stream",
     "text": [
      "0 01111001011 0000000000000000000000000000000000000000000000000000\n",
      "2.220446049250313e-16\n"
     ]
    }
   ],
   "source": [
    "to_binary((7.0/3.0 - 4.0/3.0 ) - 1.0)\n",
    "#Machine Epsilon\n",
    "print((7.0/3.0 - 4.0/3.0 ) - 1.0)"
   ]
  },
  {
   "cell_type": "markdown",
   "metadata": {
    "deletable": true,
    "editable": true
   },
   "source": [
    "**b)** Considere la serie geométrica:\n",
    "\n",
    "$$\\sum_{i=0}^{\\infty} r^i = \\frac{1}{1-r}$$ \n",
    "\n",
    "para $|r|<1$. Ahora considere el siguiente código:"
   ]
  },
  {
   "cell_type": "code",
   "execution_count": 84,
   "metadata": {
    "collapsed": true,
    "deletable": true,
    "editable": true
   },
   "outputs": [],
   "source": [
    "# Suma parcial de serie geométrica.\n",
    "# Esta función realiza una suma parcial de la serie geométrica con M terminos, \n",
    "# pero detecta si es que los terminos que se están agregando aportan o no al\n",
    "# resultado final. En caso de que los terminos ya no aporten, se detiene el loop\n",
    "# y se retorna el valor obtenido y el índice en que se detuvo el loop.\n",
    "\n",
    "def my_partial_geometric_series(r,M):\n",
    "    sum_final=1.0\n",
    "    sum_before=sum_final\n",
    "    final_index=-1\n",
    "    for i in np.arange(1,M):\n",
    "        sum_before +=r**i\n",
    "        if sum_final==sum_before:\n",
    "            final_index=i-1\n",
    "            break\n",
    "        else:\n",
    "            sum_final=sum_before\n",
    "    # Se retorna el valor obtenido de la suma parcial y cuando se truncó\n",
    "    # dado que no aportaba.\n",
    "    return np.array([sum_final,final_index])"
   ]
  },
  {
   "cell_type": "markdown",
   "metadata": {
    "deletable": true,
    "editable": true
   },
   "source": [
    "Ahora para distintos valores de $r$ se han obtenido el número de terminos que efectivamente aportan al resultado final dado que se está utilizando _double precision_."
   ]
  },
  {
   "cell_type": "code",
   "execution_count": 85,
   "metadata": {
    "collapsed": true,
    "deletable": true,
    "editable": true
   },
   "outputs": [],
   "source": [
    "N = 20\n",
    "M = 1e8\n",
    "r_all = np.logspace(-1,-20,N)\n",
    "out_data = np.zeros((N,2))\n",
    "for i in np.arange(N):\n",
    "    out_data[i,:]=my_partial_geometric_series(r_all[i],M)"
   ]
  },
  {
   "cell_type": "markdown",
   "metadata": {
    "deletable": true,
    "editable": true
   },
   "source": [
    "Graficando la candidad de terminos significativos en _double precision_ versus el $r$."
   ]
  },
  {
   "cell_type": "code",
   "execution_count": 86,
   "metadata": {
    "collapsed": false,
    "deletable": true,
    "editable": true
   },
   "outputs": [
    {
     "data": {
      "image/png": "[encoded data removed]",
      "text/plain": [
       "<matplotlib.figure.Figure at 0x11b876518>"
      ]
     },
     "metadata": {},
     "output_type": "display_data"
    }
   ],
   "source": [
    "plt.figure()\n",
    "plt.loglog(r_all,out_data[:,1],'.')\n",
    "plt.grid(True)\n",
    "plt.ylim([10**(-0.5),np.max(out_data[:,1])+1])\n",
    "plt.show()"
   ]
  },
  {
   "cell_type": "markdown",
   "metadata": {
    "deletable": true,
    "editable": true
   },
   "source": [
    "Explique cláramente por qué a medida que disminuye $r$ disminuye la cantidad de terminos significativos obtenidos."
   ]
  },
  {
   "cell_type": "markdown",
   "metadata": {},
   "source": [
    "La cantidad de términos significativos se ve reducida dado que los distintos valores de la función se vuelven similares más rápidamente a medida que disminuye el valor de $r$. Esto cobra más sentido si consideramos la siguiente ecuación:\n",
    "\n",
    "\\begin{equation} |\\text{fl}(r)-r| \\leq \\frac{1}{2} \\epsilon_{\\text{mach}} |r| \\end{equation}\n",
    "\n",
    "Donde observamos que distancia entre los números en notación de punto flotante es proporcional a la magnitud del número. Por lo tanto, a medida que los valores de $r$ disminuyen, disminuye la distancia entre ellos y, en consecuencia, disminuye la cantidad de términos significativos obtenibles."
   ]
  },
  {
   "cell_type": "markdown",
   "metadata": {
    "deletable": true,
    "editable": true
   },
   "source": [
    "**c)** Explique la razón de por qué el loop indicado debe ejecutar el break. Utilice la función \"to_binary\" incluida en el jupyter notebook \"03_floating_point_arithmetic\" para entregar su justificación. Obtenga el menor valor de $X$ que ejecuta el break."
   ]
  },
  {
   "cell_type": "markdown",
   "metadata": {},
   "source": [
    "Analizando el código indicado, debemos lograr que $X+1.0=X$ para que el `loop` indicado ejecute el `break`. Para lograr esto podemos valernos del redondeo que produce la notación de punto flotante de doble precisión. En este caso, el menor $X$ que cumple la condición es $1.0\\cdot{2^{53}}$: el valor de la mantisa excede la capacidad representable en notación de punto flotante de doble precisión, pero sin agregar números adicionales a la misma; por lo mismo, la mantisa queda únicamente con ceros. Añadir $1.0$ a este número implicaría un redondeo en el último bit, que en este caso se traduce en un truncamiento del número, quedando finalmente el mismo resultado."
   ]
  },
  {
   "cell_type": "code",
   "execution_count": 87,
   "metadata": {
    "collapsed": false,
    "deletable": true,
    "editable": true
   },
   "outputs": [
    {
     "name": "stdout",
     "output_type": "stream",
     "text": [
      "0 10000110100 0000000000000000000000000000000000000000000000000000\n",
      "0 10000110100 0000000000000000000000000000000000000000000000000000\n",
      "They are equal! Why?\n"
     ]
    }
   ],
   "source": [
    "# Hint: Comenzando con X=1.0 se demorará mucho, piense primero, determine un buen X y luego ejecute el código.\n",
    "X=2.0**53\n",
    "a=X+0.0\n",
    "b=X+1.0\n",
    "to_binary(a)\n",
    "to_binary(b)\n",
    "while(True):\n",
    "    a+=1.0\n",
    "    b+=1.0\n",
    "    if a == b:\n",
    "        print('They are equal! Why?')\n",
    "        break"
   ]
  },
  {
   "cell_type": "markdown",
   "metadata": {
    "deletable": true,
    "editable": true
   },
   "source": [
    "## 2.2 Pérdida de Significancia\n",
    "**1-** Dada la función: </p>\n",
    "\n",
    "$$f(x) = \\frac{1 - x}{ 1 + x} - \\frac{1}{3x+1}$$"
   ]
  },
  {
   "cell_type": "markdown",
   "metadata": {},
   "source": [
    "   **a)** Grafique la función usando $x \\in {[-10,10]}$ ¿Para que valores de x la función queda reducida a $0$ ?"
   ]
  },
  {
   "cell_type": "code",
   "execution_count": 88,
   "metadata": {
    "collapsed": false
   },
   "outputs": [
    {
     "data": {
      "image/png": "[encoded data removed]",
      "text/plain": [
       "<matplotlib.figure.Figure at 0x11b387630>"
      ]
     },
     "metadata": {},
     "output_type": "display_data"
    }
   ],
   "source": [
    "x = np.linspace(-10,10,100)\n",
    "F = lambda x: (1-x)/(1+x) - 1/(3*x+1)\n",
    "plt.figure()\n",
    "plt.plot(x,F(x),'-')\n",
    "plt.grid(True)\n",
    "plt.xlabel('x')\n",
    "plt.ylabel('f(x)')\n",
    "plt.title(\"Gráfica de f(x) en el intervalo [-10, 10]\")\n",
    "plt.show()"
   ]
  },
  {
   "cell_type": "markdown",
   "metadata": {},
   "source": [
    "A simple vista, se puede observar que la función queda reducida a 0 sólo en $x=0$. Esto puede ser incompleto, dado que se grafica para un número acotado de valores."
   ]
  },
  {
   "cell_type": "markdown",
   "metadata": {},
   "source": [
    "   **b)** Usando $x = [10^{-1} , 10^{-2} , ... , 10^{-20}] $ , calcule los valores de f(x) ¿Que ocurre con los valores observados? ¿En que momento ocurre pérdida de significancia? Describa el origen de cancelación de digítos. "
   ]
  },
  {
   "cell_type": "code",
   "execution_count": 89,
   "metadata": {
    "collapsed": false
   },
   "outputs": [
    {
     "name": "stdout",
     "output_type": "stream",
     "text": [
      "[  4.89510490e-02   9.32423339e-03   9.93024921e-04   9.99300250e-05\n",
      "   9.99930002e-06   9.99993000e-07   9.99999299e-08   9.99999938e-09\n",
      "   9.99999972e-10   1.00000008e-10   1.00000008e-11   9.99977878e-13\n",
      "   1.00031095e-13   9.99200722e-15   9.99200722e-16   1.11022302e-16\n",
      "   0.00000000e+00   0.00000000e+00   0.00000000e+00   0.00000000e+00]\n"
     ]
    }
   ],
   "source": [
    "#Obtenemos la secuencia de valores para X\n",
    "x = np.array([10**(-i) for i in range(1,21)])\n",
    "F = lambda x: (1-x)/(1+x) - 1/(3*x+1)\n",
    "print(F(x))"
   ]
  },
  {
   "cell_type": "markdown",
   "metadata": {},
   "source": [
    "De los valores entregados, se puede observar que existe pérdida de significancia a partir de $x=10^{-17}$, donde los términos son cancelados en la resta debido a la falta de precisión en la representación de punto flotante, producto de lo pequeños de los valores de $x$."
   ]
  },
  {
   "cell_type": "markdown",
   "metadata": {},
   "source": [
    "   **c)** Reescriba la función original para evitar el proceso de pérdida de significancia (hint: busqué un denominador común para ambas fracciones.)\n",
    "   \n",
    "   Desarrollando la resta, llegamos a la siguiente expresión:\n",
    "   \n",
    "   $$f(x) = \\frac{-3x^{2} + x}{3x^{2} + 4x + 1}$$"
   ]
  },
  {
   "cell_type": "code",
   "execution_count": 90,
   "metadata": {
    "collapsed": true
   },
   "outputs": [],
   "source": [
    "F2 = lambda x: (-3*x**2 + x)/(3*x**2 + 4*x + 1)"
   ]
  },
  {
   "cell_type": "markdown",
   "metadata": {},
   "source": [
    "**d)** Analice la diferencia entre los resultados de la función $f(x)$ con la función reescrita en la pregunta anterior. Realice un gráfico que mida la diferencia entre los resultados del punto a) y c). Realice un análisis cualitativo y cuantitativo de los resultados."
   ]
  },
  {
   "cell_type": "code",
   "execution_count": 91,
   "metadata": {
    "collapsed": false
   },
   "outputs": [
    {
     "data": {
      "image/png": "[encoded data removed]",
      "text/plain": [
       "<matplotlib.figure.Figure at 0x11b910e48>"
      ]
     },
     "metadata": {},
     "output_type": "display_data"
    }
   ],
   "source": [
    "x = np.linspace(-10, 10, 100)\n",
    "F = lambda x: (1-x)/(1+x) - 1/(3*x+1)\n",
    "F2 = lambda x: (-3*x**2 + x)/(3*x**2 + 4*x + 1)\n",
    "f1 = F(x)\n",
    "f2 = F2(x)\n",
    "diff = abs(f1 - f2)\n",
    "plt.figure()\n",
    "plt.plot(x,diff,'-')\n",
    "plt.grid(True)\n",
    "plt.xlabel('x')\n",
    "plt.ylabel('abs(f(x)-f2(x))')\n",
    "plt.title(\"Gráfica de diferencias entre f(x)y f2(x)\")\n",
    "plt.show()"
   ]
  },
  {
   "cell_type": "markdown",
   "metadata": {},
   "source": [
    "El hecho de que se observen diferencias entre las funciones de los puntos **a)** y **c)** muestra que existe una mejora al reescribir la función para evitar pérdida de significancia. También observamos, a simple vista, que estas diferencias son mayores en los números negativos y en las cercanías del cero (aunque, en general, todas las diferencias son muy pequeñas); esto podría ser causado por posibles indefiniciones de la función."
   ]
  },
  {
   "cell_type": "markdown",
   "metadata": {
    "deletable": true,
    "editable": true
   },
   "source": [
    "**2.** Para la siguiente función:\n",
    "\n",
    "$$g(x) = \\frac{1 - \\sec(x)}{\\tan(x)^2} $$\n",
    "\n",
    "   **a)** Usando $x = [-2\\pi, 2\\pi ]$ observe el comportamiento de la función."
   ]
  },
  {
   "cell_type": "code",
   "execution_count": 92,
   "metadata": {
    "collapsed": false
   },
   "outputs": [
    {
     "data": {
      "image/png": "[encoded data removed]",
      "text/plain": [
       "<matplotlib.figure.Figure at 0x11b09f400>"
      ]
     },
     "metadata": {},
     "output_type": "display_data"
    }
   ],
   "source": [
    "#Obtenemos los valores de x para el gráfico\n",
    "x = np.arange(-2*np.pi, 2*np.pi+0.01, np.pi/16)\n",
    "G = lambda x: (1-(1/np.cos(x)))/np.tan(x)**2\n",
    "plt.figure()\n",
    "plt.plot(x,G(x),'-')\n",
    "plt.grid(True)\n",
    "plt.xlabel('x')\n",
    "plt.ylabel('f(x)')\n",
    "plt.title(\"Gráfica de g(x) en el intervalo [-2Pi, 2Pi]\")\n",
    "plt.show()"
   ]
  },
  {
   "cell_type": "markdown",
   "metadata": {},
   "source": [
    "A primera vista, sobresalen 2 picos en la función (uno de ellos más intenso que el otro), lo que posiblemente son las asíntotas de la función (lo que no se puede ver con claridad porque el gráfico se realiza con un conjunto acotado de puntos)."
   ]
  },
  {
   "cell_type": "markdown",
   "metadata": {},
   "source": [
    "**b)** Usando el intervalo $x = [-2\\pi, 2\\pi ] $ , calcule los valores de f(x) ¿Que ocurre con los valores observados? ¿En que momento ocurre pérdida de significancia? Describa el origen de cancelación de digítos."
   ]
  },
  {
   "cell_type": "code",
   "execution_count": 93,
   "metadata": {
    "collapsed": false
   },
   "outputs": [
    {
     "name": "stdout",
     "output_type": "stream",
     "text": [
      "[  0.00000000e+00  -4.95149722e-01  -4.80216935e-01  -4.53990395e-01\n",
      "  -4.14213562e-01  -3.57148923e-01  -2.76768654e-01  -1.63243161e-01\n",
      "   1.96005386e-15   2.42375421e-01   6.19914404e-01   1.25007431e+00\n",
      "   2.41421356e+00   4.93364801e+00   1.21370712e+01   5.10434345e+01\n",
      "   1.48072072e+29   5.10434345e+01   1.21370712e+01   4.93364801e+00\n",
      "   2.41421356e+00   1.25007431e+00   6.19914404e-01   2.42375421e-01\n",
      "  -5.39030286e-15  -1.63243161e-01  -2.76768654e-01  -3.57148923e-01\n",
      "  -4.14213562e-01  -4.53990395e-01  -4.80216935e-01  -4.95149722e-01\n",
      "   0.00000000e+00  -4.95149722e-01  -4.80216935e-01  -4.53990395e-01\n",
      "  -4.14213562e-01  -3.57148923e-01  -2.76768654e-01  -1.63243161e-01\n",
      "   8.82055186e-15   2.42375421e-01   6.19914404e-01   1.25007431e+00\n",
      "   2.41421356e+00   4.93364801e+00   1.21370712e+01   5.10434345e+01\n",
      "   1.80179407e+28   5.10434345e+01   1.21370712e+01   4.93364801e+00\n",
      "   2.41421356e+00   1.25007431e+00   6.19914404e-01   2.42375421e-01\n",
      "  -1.22508009e-14  -1.63243161e-01  -2.76768654e-01  -3.57148923e-01\n",
      "  -4.14213562e-01  -4.53990395e-01  -4.80216935e-01  -4.95149722e-01\n",
      "   0.00000000e+00]\n"
     ]
    }
   ],
   "source": [
    "x = np.arange(-2*np.pi, 2*np.pi+0.01, np.pi/16)\n",
    "G = lambda x: (1-(1/np.cos(x)))/np.tan(x)**2\n",
    "print(G(x))"
   ]
  },
  {
   "cell_type": "markdown",
   "metadata": {},
   "source": [
    "De los resultados de evaluar la función, se pueden observar 3 puntos donde existe pérdida de significancia. Más específicamente, estos puntos se encuentran al centro y a los extremos del intervalo evaluado. La razón por las que ocurren estas pérdidas de significancia son similares a las señaladas en el punto anterior (pérdida de significancia por aproximación en punto flotante); sin embargo, las razones por las que ocurren en la función requieren un análisis trigonométrico de la misma, lo que escapa del alcance de este documento."
   ]
  },
  {
   "cell_type": "markdown",
   "metadata": {},
   "source": [
    "   **c)** Reescriba la función original para evitar el proceso de pérdida de significancia (hint: implemente propiedades trigonométricas).\n",
    "   \n",
    "   Mediante propiedades trigonométricas, llegamos a la siguiente expresión equivalente:\n",
    "   \n",
    "   $$g(x) = (\\cos(x)-1) \\cot(x) \\csc(x) $$"
   ]
  },
  {
   "cell_type": "code",
   "execution_count": 94,
   "metadata": {
    "collapsed": true
   },
   "outputs": [],
   "source": [
    "G2 = lambda x: (np.cos(x) - 1)*(1/np.tan(x))*(1/np.sin(x))"
   ]
  },
  {
   "cell_type": "markdown",
   "metadata": {},
   "source": [
    "**d)** Analice la diferencia entre los resultados de la función $g(x)$ con la función reescrita en la pregunta anterior. Realice un gráfico que mida la diferencia entre los resultados del punto a) y c). Realice un análisis cualitativo y cuantitativo de los resultados."
   ]
  },
  {
   "cell_type": "code",
   "execution_count": 95,
   "metadata": {
    "collapsed": false
   },
   "outputs": [
    {
     "data": {
      "image/png": "[encoded data removed]",
      "text/plain": [
       "<matplotlib.figure.Figure at 0x11b7030f0>"
      ]
     },
     "metadata": {},
     "output_type": "display_data"
    }
   ],
   "source": [
    "x = np.linspace(-10, 10, 100)\n",
    "G = lambda x: (1-(1/np.cos(x)))/np.tan(x)**2\n",
    "G2 = lambda x: (np.cos(x) - 1)*(1/np.tan(x))*(1/np.sin(x))\n",
    "r1 = G(x)\n",
    "r2 = G2(x)\n",
    "diff = abs(r1 - r2)\n",
    "plt.figure()\n",
    "plt.plot(x,diff,'-')\n",
    "plt.grid(True)\n",
    "plt.xlabel('x')\n",
    "plt.ylabel('abs(g(x)-g2(x))')\n",
    "plt.title(\"Gráfica de diferencias entre g(x)y g2(x)\")\n",
    "plt.show()"
   ]
  },
  {
   "cell_type": "markdown",
   "metadata": {},
   "source": [
    "Podemos hacer un análisis idéntico al realizado en el punto anterior: el hecho de que se observen diferencias entre las funciones de los puntos **a)** y **c)** muestra que existe una mejora al reescribir la función para evitar pérdida de significancia. Además, observamos algunos picos en el gráfico de distinta magnitud (más que en el punto anterior), lo que podría indicar puntos de indefinición de la función, donde la diferencia entre funciones es considerablemente mayor. A pesar de lo anterior, todas las diferencias son pequeñas, del orden de $10^{-14}$."
   ]
  },
  {
   "cell_type": "markdown",
   "metadata": {
    "deletable": true,
    "editable": true
   },
   "source": [
    "<div id='obj' />\n",
    "# 3. Conclusiones\n",
    "En esta tarea, logramos un entendimiento mucho más profundo de la pérdida de significancia en los cálculos computacionales, y de los efectos adversos que estos pueden causar en los resultados finales. Se debe tener especial cuidado de evitar las pérdidas de significancia en las funciones utilizadas en los cálculos, ya que esto podría llevar a la aparición de \"falsos positivos\" dentro de nuestros resultados, lo que podría llevarnos a sacar conclusiones erróneas. Es importante tener en cuenta las limitaciones de las computadoras a la hora de computar los cálculos que deseamos realizar, ya que nos permitirá tener en cuenta esas limitaciones y llevar a cabo acciones para minimizar sus efectos."
   ]
  },
  {
   "cell_type": "markdown",
   "metadata": {
    "deletable": true,
    "editable": true
   },
   "source": [
    "<div id='obj' />\n",
    "# 4. Referencias\n",
    "* _Markdown_ https://help.github.com/articles/basic-writing-and-formatting-syntax/\n",
    "* _numpy_ http://www.numpy.org\n",
    "* _scipy_ https://www.scipy.org/scipylib/index.html\n",
    "* _sympy_ http://docs.sympy.org/latest/index.html\n",
    "* _matplotlib_ http://matplotlib.org"
   ]
  },
  {
   "cell_type": "code",
   "execution_count": null,
   "metadata": {
    "collapsed": true,
    "deletable": true,
    "editable": true
   },
   "outputs": [],
   "source": []
  }
 ],
 "metadata": {
  "kernelspec": {
   "display_name": "Python 3",
   "language": "python",
   "name": "python3"
  },
  "language_info": {
   "codemirror_mode": {
    "name": "ipython",
    "version": 3
   },
   "file_extension": ".py",
   "mimetype": "text/x-python",
   "name": "python",
   "nbconvert_exporter": "python",
   "pygments_lexer": "ipython3",
   "version": "3.6.0"
  }
 },
 "nbformat": 4,
 "nbformat_minor": 2
}
